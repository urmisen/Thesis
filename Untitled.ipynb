{
 "cells": [
  {
   "cell_type": "code",
   "execution_count": 1,
   "metadata": {},
   "outputs": [
    {
     "name": "stdout",
     "output_type": "stream",
     "text": [
      "   trial_num  subject               samples\n",
      "0          3        1  [-0.92, 1.02, -1.45]\n",
      "1          3        1    [1.48, -1.0, 0.54]\n",
      "2          3        1   [0.52, -1.31, 0.66]\n",
      "3          3        2   [0.39, 1.74, -1.38]\n",
      "4          3        2   [-0.61, 0.68, -0.5]\n",
      "5          3        2   [0.28, -0.64, 0.63]\n"
     ]
    }
   ],
   "source": [
    "import pandas as pd\n",
    "import numpy as np\n",
    "names=[1, 2, 3, 1, 2, 3]\n",
    "lenth=len(names)\n",
    "for i in range(0,lenth):\n",
    "    df = pd.DataFrame(\n",
    "        {'trial_num': names[i],\n",
    "         'subject': [1, 1, 1, 2, 2, 2],\n",
    "         'samples': [list(np.random.randn(3).round(2)) for i in range(6)]\n",
    "        }\n",
    "    )\n",
    "\n",
    "    print(df)"
   ]
  },
  {
   "cell_type": "code",
   "execution_count": null,
   "metadata": {},
   "outputs": [],
   "source": []
  }
 ],
 "metadata": {
  "kernelspec": {
   "display_name": "Python 3",
   "language": "python",
   "name": "python3"
  },
  "language_info": {
   "codemirror_mode": {
    "name": "ipython",
    "version": 3
   },
   "file_extension": ".py",
   "mimetype": "text/x-python",
   "name": "python",
   "nbconvert_exporter": "python",
   "pygments_lexer": "ipython3",
   "version": "3.7.4"
  }
 },
 "nbformat": 4,
 "nbformat_minor": 2
}
