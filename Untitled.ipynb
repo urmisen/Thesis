{
 "cells": [
  {
   "cell_type": "code",
   "execution_count": 1,
   "metadata": {},
   "outputs": [
    {
     "name": "stdout",
     "output_type": "stream",
     "text": [
      "   trial_num  subject               samples\n",
      "0          1        1   [0.15, -0.04, 0.23]\n",
      "1          1        1  [-0.21, 1.14, -0.53]\n",
      "2          1        1   [-0.74, 1.14, 0.25]\n",
      "3          1        2   [-0.23, -0.65, 0.7]\n",
      "4          1        2   [-1.33, 0.62, 0.85]\n",
      "5          1        2    [1.07, -1.53, 0.7]\n",
      "   trial_num  subject               samples\n",
      "0          2        1   [-0.63, 1.45, 1.67]\n",
      "1          2        1   [1.31, 0.18, -1.64]\n",
      "2          2        1   [0.62, -0.63, 0.99]\n",
      "3          2        2    [3.12, 1.06, 0.89]\n",
      "4          2        2  [-0.68, -0.16, 0.04]\n",
      "5          2        2   [-0.47, 0.17, 0.36]\n",
      "   trial_num  subject                samples\n",
      "0          3        1    [0.92, 0.33, -0.42]\n",
      "1          3        1     [0.37, -0.31, 1.5]\n",
      "2          3        1     [2.91, 2.09, 0.23]\n",
      "3          3        2      [0.78, 0.1, 0.28]\n",
      "4          3        2  [-0.71, -0.61, -1.49]\n",
      "5          3        2   [0.12, -0.88, -0.86]\n",
      "   trial_num  subject                samples\n",
      "0          1        1  [-1.08, -0.05, -0.35]\n",
      "1          1        1     [0.33, 1.42, 1.98]\n",
      "2          1        1     [0.93, 0.91, -2.0]\n",
      "3          1        2    [1.34, -1.49, 0.78]\n",
      "4          1        2    [0.54, -0.56, 0.39]\n",
      "5          1        2     [-2.28, 0.0, 0.19]\n",
      "   trial_num  subject               samples\n",
      "0          2        1   [0.73, 0.54, -0.23]\n",
      "1          2        1   [-1.35, 1.78, 1.41]\n",
      "2          2        1   [1.29, 0.26, -0.88]\n",
      "3          2        2  [-0.97, 0.01, -0.59]\n",
      "4          2        2  [1.65, -0.01, -0.92]\n",
      "5          2        2   [-0.6, -0.71, -0.1]\n",
      "   trial_num  subject                samples\n",
      "0          3        1    [-0.12, 0.9, -0.18]\n",
      "1          3        1      [1.2, 1.3, -0.63]\n",
      "2          3        1   [-0.34, -0.94, 0.51]\n",
      "3          3        2     [0.07, 1.08, -2.1]\n",
      "4          3        2  [-0.51, -0.72, -0.84]\n",
      "5          3        2     [1.58, -0.02, 0.0]\n"
     ]
    }
   ],
   "source": [
    "import pandas as pd\n",
    "import numpy as np\n",
    "names=[1, 2, 3, 1, 2, 3]\n",
    "lenth=len(names)\n",
    "for i in range(0,lenth):\n",
    "    df = pd.DataFrame(\n",
    "        {'trial_num': names[i],\n",
    "         'subject': [1, 1, 1, 2, 2, 2],\n",
    "         'samples': [list(np.random.randn(3).round(2)) for i in range(6)]\n",
    "        }\n",
    "    )\n",
    "\n",
    "    print(df)"
   ]
  },
  {
   "cell_type": "code",
   "execution_count": 2,
   "metadata": {},
   "outputs": [
    {
     "name": "stdout",
     "output_type": "stream",
     "text": [
      "urmi\n"
     ]
    }
   ],
   "source": [
    "print(\"urmi\")"
   ]
  },
  {
   "cell_type": "code",
   "execution_count": null,
   "metadata": {},
   "outputs": [],
   "source": []
  }
 ],
 "metadata": {
  "kernelspec": {
   "display_name": "Python 3",
   "language": "python",
   "name": "python3"
  },
  "language_info": {
   "codemirror_mode": {
    "name": "ipython",
    "version": 3
   },
   "file_extension": ".py",
   "mimetype": "text/x-python",
   "name": "python",
   "nbconvert_exporter": "python",
   "pygments_lexer": "ipython3",
   "version": "3.7.4"
  }
 },
 "nbformat": 4,
 "nbformat_minor": 2
}
