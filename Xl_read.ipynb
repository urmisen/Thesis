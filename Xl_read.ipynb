{
 "cells": [
  {
   "cell_type": "code",
   "execution_count": 129,
   "metadata": {},
   "outputs": [
    {
     "name": "stdout",
     "output_type": "stream",
     "text": [
      "[32, 111, 75, 116]\n",
      "['J3KRF5', 'J3KRF5', 'K7EQG2', 'K7EQG2']\n",
      "4\n",
      "J3KRF5\n",
      "[0, 1]\n",
      "32\n",
      "111\n",
      "K7EQG2\n",
      "[2, 3]\n",
      "75\n",
      "116\n"
     ]
    }
   ],
   "source": [
    "from Bio import SeqIO\n",
    "import pandas as pd\n",
    "import xlrd as xl \n",
    "from pandas import ExcelWriter\n",
    "from pandas import ExcelFile\n",
    "\n",
    "def main():\n",
    "    names=[]\n",
    "    frame=[]\n",
    "    protien_no=[]\n",
    "    Acet=[]\n",
    "    for seq_record in SeqIO.parse(\"Acetylation_Homo.fasta.txt\", \"fasta\"):\n",
    "        name=seq_record.name.split(\"|\")[1]\n",
    "        names.append(name)\n",
    "    # print(names)\n",
    "    names_len=len(names)\n",
    "\n",
    "    df = pd.read_excel('Acetylation_Homo.xlsx', sheet_name='Sheet1')\n",
    "    protein_no = list(df['Uniprot Accession'])\n",
    "    value = list(df['Position'])\n",
    "    print(value)\n",
    "    print(protein_no)\n",
    "    protien_len=len(protein_no)\n",
    "    print(protien_len)\n",
    "\n",
    "    for i in range(0,names_len):\n",
    "#         print(protein_no)  \n",
    "        occurrences = lambda s, lst: (k for k,e in enumerate(lst) if e == s)\n",
    "        print(names[i])\n",
    "        N = list(occurrences(names[i], protein_no))\n",
    "        yes_len=len(N)\n",
    "        print(N)\n",
    "        for j in N:\n",
    "            print(value[j])\n",
    "#             Acet[j]=\"yes\"\n",
    "#             print(value[j])\n",
    "    \n",
    "main()"
   ]
  },
  {
   "cell_type": "code",
   "execution_count": 121,
   "metadata": {},
   "outputs": [
    {
     "name": "stdout",
     "output_type": "stream",
     "text": [
      "ProjectName\n"
     ]
    }
   ],
   "source": [
    "import os\n",
    "\n",
    "x = r'C:\\Company\\ProjectList\\ProjectName\\Requriment'\n",
    "\n",
    "res = x.split(os.sep)[3]\n",
    "\n",
    "print(res)"
   ]
  },
  {
   "cell_type": "code",
   "execution_count": null,
   "metadata": {},
   "outputs": [],
   "source": []
  },
  {
   "cell_type": "code",
   "execution_count": null,
   "metadata": {},
   "outputs": [],
   "source": []
  }
 ],
 "metadata": {
  "kernelspec": {
   "display_name": "Python 3",
   "language": "python",
   "name": "python3"
  },
  "language_info": {
   "codemirror_mode": {
    "name": "ipython",
    "version": 3
   },
   "file_extension": ".py",
   "mimetype": "text/x-python",
   "name": "python",
   "nbconvert_exporter": "python",
   "pygments_lexer": "ipython3",
   "version": "3.7.4"
  }
 },
 "nbformat": 4,
 "nbformat_minor": 2
}
