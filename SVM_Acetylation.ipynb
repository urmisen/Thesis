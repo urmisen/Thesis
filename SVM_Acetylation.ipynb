{
 "cells": [
  {
   "cell_type": "code",
   "execution_count": 15,
   "metadata": {},
   "outputs": [
    {
     "name": "stdout",
     "output_type": "stream",
     "text": [
      "The size of our training \"X\"(input feature) is (224991, 21)\n",
      "The size of our testing \"X\"(input feature) is (56248, 21)\n",
      "The size of our training \"y\"(output feature) is (224991,)\n",
      "The size of our testing \"y\"(output feature) is (56248,)\n",
      "\n",
      "\n",
      "                 predicted_not_Acetylation  predicted_Acetylation\n",
      "not_Asetylation                          0                   6079\n",
      "Asetylation                              0                  50169\n",
      "\n",
      "\n",
      "Accuracy : 89.19250462238656\n",
      "\n",
      "\n"
     ]
    }
   ],
   "source": [
    "#SVM_Acetylation\n",
    "from Bio import SeqIO\n",
    "import pandas as pd\n",
    "import numpy as np\n",
    "from pandas import ExcelWriter\n",
    "from pandas import ExcelFile\n",
    "import matplotlib.pyplot as plt\n",
    "from sklearn.model_selection import train_test_split\n",
    "from sklearn.svm import SVC\n",
    "from sklearn.metrics import classification_report,confusion_matrix\n",
    "\n",
    "\n",
    "df_acet=pd.read_csv('/Users/urmis/Documents/Thesis/AAC.csv')\n",
    "#we drop our \"target\" feature and use all the remaining features as X in our dataf\n",
    "X=df_acet.drop(['Acetylation?'],axis=1)\n",
    "X.tail()\n",
    "y=df_acet['Acetylation?']\n",
    "y.tail()\n",
    "#split our data using 80% for training and the remaining 20% for testing.\n",
    "X_train,X_test,y_train,y_test=train_test_split(X,y,test_size=0.2,random_state=20)\n",
    "print('The size of our training \"X\"(input feature) is',X_train.shape)\n",
    "print('The size of our testing \"X\"(input feature) is',X_test.shape)\n",
    "print('The size of our training \"y\"(output feature) is',y_train.shape)\n",
    "print('The size of our testing \"y\"(output feature) is',y_test.shape)\n",
    "print(\"\\n\")\n",
    "\n",
    "svc_model=SVC(C=1.0,gamma='auto',kernel='rbf')\n",
    "#train our SVM model with our “training” dataset.\n",
    "svc_model.fit(X_train,y_train)\n",
    "#use our trained model to make a prediction using our testing data\n",
    "y_predict=svc_model.predict(X_test)\n",
    "\n",
    "cm=np.array(confusion_matrix(y_test,y_predict,labels=[1,0]))\n",
    "confusion=pd.DataFrame(cm,index=['not_Asetylation','Asetylation'],\n",
    "                        columns=['predicted_not_Acetylation','predicted_Acetylation'])\n",
    "print(confusion)\n",
    "print(\"\\n\")\n",
    "True_Positive=confusion.at['Asetylation','predicted_Acetylation']\n",
    "False_Positive=confusion.at['not_Asetylation','predicted_Acetylation']\n",
    "True_Negative=confusion.at['not_Asetylation','predicted_not_Acetylation']\n",
    "False_Negative=confusion.at['Asetylation','predicted_not_Acetylation']\n",
    "\n",
    "#Accuracy\n",
    "\n",
    "total_testing_class=True_Positive+False_Positive\n",
    "correctly_predicted_class=True_Positive\n",
    "accuracy = (correctly_predicted_class / total_testing_class) * 100\n",
    "print(\"Accuracy :\",accuracy)\n",
    "print(\"\\n\")\n",
    "\n",
    "# #Sensitivity\n",
    "# sensitivity = True_Positive / True_Positive + False_Negative\n",
    "# print(\"Sensitivity :\",sensitivity)\n",
    "\n",
    "# #Specificity\n",
    "# specificity = True_Negative / True_Negative + False_Positive\n",
    "# print(\"Specificity :\",specificity)\n",
    "\n",
    "# #Precision\n",
    "# precision = True_Positive / True_Positive + False_Positive\n",
    "# print(\"Precision :\",precision)"
   ]
  },
  {
   "cell_type": "code",
   "execution_count": null,
   "metadata": {},
   "outputs": [],
   "source": []
  }
 ],
 "metadata": {
  "kernelspec": {
   "display_name": "Python 3",
   "language": "python",
   "name": "python3"
  },
  "language_info": {
   "codemirror_mode": {
    "name": "ipython",
    "version": 3
   },
   "file_extension": ".py",
   "mimetype": "text/x-python",
   "name": "python",
   "nbconvert_exporter": "python",
   "pygments_lexer": "ipython3",
   "version": "3.7.4"
  }
 },
 "nbformat": 4,
 "nbformat_minor": 2
}
